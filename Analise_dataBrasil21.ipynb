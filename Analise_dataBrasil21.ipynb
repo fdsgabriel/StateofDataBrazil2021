{
 "cells": [
  {
   "cell_type": "code",
   "execution_count": 2,
   "id": "3c8d8aca",
   "metadata": {},
   "outputs": [],
   "source": [
    "import pandas as pd"
   ]
  },
  {
   "cell_type": "code",
   "execution_count": 15,
   "id": "cbad393e",
   "metadata": {},
   "outputs": [
    {
     "name": "stderr",
     "output_type": "stream",
     "text": [
      "/tmp/ipykernel_99528/3390434786.py:1: DtypeWarning: Columns (47) have mixed types. Specify dtype option on import or set low_memory=False.\n",
      "  df_raw = pd.read_csv(\"State of Data 2021 - Dataset - Pgina1.csv\")\n"
     ]
    }
   ],
   "source": [
    "#Carrega o dataset\n",
    "\n",
    "df_raw = pd.read_csv(\"State of Data 2021 - Dataset - Pgina1.csv\")\n"
   ]
  },
  {
   "cell_type": "code",
   "execution_count": 41,
   "id": "1eee078e",
   "metadata": {},
   "outputs": [
    {
     "data": {
      "text/plain": [
       "yrhjxwscdfl516bibgi0kyrhait8fbnf    2\n",
       "deptbnmlg4p0iuonwodept7eeluh5ov4    2\n",
       "7lkav4o0fukny1644lc7lkav4o0c5wsb    2\n",
       "mdeq88ctdx127eztcxmdeq81poeki9ek    2\n",
       "qkx4q0ei90wcjxnqkx4q0j3xgf0zn13s    1\n",
       "                                   ..\n",
       "t198yi4rtuwu507i6ozjy2t198yjf19k    1\n",
       "t14vk15hwcx2w7t4r9t14vk8rybxsadv    1\n",
       "t0qlvyy5cd2z8q0liht0ql7d22gisdos    1\n",
       "t00leqn7a2b3b5l2gsby6pz7nt00leqn    1\n",
       "037usz1h2yip96dgil4mhj037uszw1gk    1\n",
       "Name: ('P0', 'id'), Length: 2641, dtype: int64"
      ]
     },
     "execution_count": 41,
     "metadata": {},
     "output_type": "execute_result"
    }
   ],
   "source": [
    "#Linha duplicadas\n",
    "\n",
    "df_raw[\"('P0', 'id')\"].value_counts()\n"
   ]
  },
  {
   "cell_type": "code",
   "execution_count": 49,
   "id": "915354f7",
   "metadata": {},
   "outputs": [
    {
     "data": {
      "text/plain": [
       "False    2641\n",
       "True        4\n",
       "dtype: int64"
      ]
     },
     "execution_count": 49,
     "metadata": {},
     "output_type": "execute_result"
    }
   ],
   "source": [
    "#De fato são identicas\n",
    "\n",
    "df_raw.duplicated().value_counts()\n"
   ]
  },
  {
   "cell_type": "code",
   "execution_count": 51,
   "id": "5599bcb7",
   "metadata": {},
   "outputs": [],
   "source": [
    "#Dropa as duplicatas\n",
    "\n",
    "df_raw.drop_duplicates(inplace=True)\n"
   ]
  },
  {
   "cell_type": "code",
   "execution_count": 16,
   "id": "21a7189b",
   "metadata": {},
   "outputs": [],
   "source": [
    "#Função que busca as colunas relacionadas à pergunta requerida - disponibilizada no Kaggle\n",
    "#Alguns ajustes feitos por mim\n",
    "\n",
    "def obter_columns_por_pergunta(perguntas = [], df=None):\n",
    "    colunas = []\n",
    "    for column in df.columns:\n",
    "        column_formmatado = ''.join(char for char in column if char.isalnum())\n",
    "        if column_formmatado[:2] in perguntas:\n",
    "            colunas.append(column)\n",
    "\n",
    "\n",
    "    return colunas\n"
   ]
  },
  {
   "cell_type": "code",
   "execution_count": 19,
   "id": "a1bcd944",
   "metadata": {},
   "outputs": [],
   "source": [
    "#Monta-se um df para cada pergunta\n",
    "\n",
    "df_P1 = df[obter_columns_por_pergunta(['P1'], df_raw)]\n",
    "df_P2 = df[obter_columns_por_pergunta(['P2'], df_raw)]\n",
    "df_P3 = df[obter_columns_por_pergunta(['P3'], df_raw)]\n",
    "df_P4 = df[obter_columns_por_pergunta(['P4'], df_raw)]\n",
    "df_P5 = df[obter_columns_por_pergunta(['P5'], df_raw)]\n",
    "df_P6 = df[obter_columns_por_pergunta(['P6'], df_raw)]\n",
    "df_P7 = df[obter_columns_por_pergunta(['P7'], df_raw)]\n",
    "df_P8 = df[obter_columns_por_pergunta(['P8'], df_raw)]\n",
    "df_P9 = df[obter_columns_por_pergunta(['P9'], df_raw)]\n"
   ]
  },
  {
   "cell_type": "markdown",
   "id": "f16d67c3",
   "metadata": {},
   "source": [
    "----"
   ]
  },
  {
   "cell_type": "code",
   "execution_count": null,
   "id": "ad10f71e",
   "metadata": {},
   "outputs": [],
   "source": [
    "#Primeira pergunta"
   ]
  },
  {
   "cell_type": "code",
   "execution_count": 20,
   "id": "46421aa6",
   "metadata": {},
   "outputs": [
    {
     "data": {
      "text/html": [
       "<div>\n",
       "<style scoped>\n",
       "    .dataframe tbody tr th:only-of-type {\n",
       "        vertical-align: middle;\n",
       "    }\n",
       "\n",
       "    .dataframe tbody tr th {\n",
       "        vertical-align: top;\n",
       "    }\n",
       "\n",
       "    .dataframe thead th {\n",
       "        text-align: right;\n",
       "    }\n",
       "</style>\n",
       "<table border=\"1\" class=\"dataframe\">\n",
       "  <thead>\n",
       "    <tr style=\"text-align: right;\">\n",
       "      <th></th>\n",
       "      <th>('P1_a ', 'Idade')</th>\n",
       "      <th>('P1_a_a ', 'Faixa idade')</th>\n",
       "      <th>('P1_b ', 'Genero')</th>\n",
       "      <th>('P1_e ', 'Estado onde mora')</th>\n",
       "      <th>('P1_e_a ', 'uf onde mora')</th>\n",
       "      <th>('P1_e_b ', 'Regiao onde mora')</th>\n",
       "      <th>('P1_g_b ', 'Regiao de origem')</th>\n",
       "      <th>('P1_g_c ', 'Mudou de Estado?')</th>\n",
       "      <th>('P1_h ', 'Nivel de Ensino')</th>\n",
       "      <th>('P1_i ', 'Área de Formação')</th>\n",
       "    </tr>\n",
       "  </thead>\n",
       "  <tbody>\n",
       "    <tr>\n",
       "      <th>0</th>\n",
       "      <td>38.0</td>\n",
       "      <td>35-39</td>\n",
       "      <td>Masculino</td>\n",
       "      <td>Ceará (CE)</td>\n",
       "      <td>CE</td>\n",
       "      <td>Nordeste</td>\n",
       "      <td>NaN</td>\n",
       "      <td>0</td>\n",
       "      <td>Pós-graduação</td>\n",
       "      <td>Química / Física</td>\n",
       "    </tr>\n",
       "    <tr>\n",
       "      <th>1</th>\n",
       "      <td>39.0</td>\n",
       "      <td>35-39</td>\n",
       "      <td>Masculino</td>\n",
       "      <td>Bahia (BA)</td>\n",
       "      <td>BA</td>\n",
       "      <td>Nordeste</td>\n",
       "      <td>Sudeste</td>\n",
       "      <td>1</td>\n",
       "      <td>Pós-graduação</td>\n",
       "      <td>Economia/ Administração / Contabilidade / Fina...</td>\n",
       "    </tr>\n",
       "    <tr>\n",
       "      <th>2</th>\n",
       "      <td>30.0</td>\n",
       "      <td>30-34</td>\n",
       "      <td>Masculino</td>\n",
       "      <td>Santa Catarina (SC)</td>\n",
       "      <td>SC</td>\n",
       "      <td>Sul</td>\n",
       "      <td>NaN</td>\n",
       "      <td>0</td>\n",
       "      <td>Pós-graduação</td>\n",
       "      <td>Computação / Engenharia de Software / Sistemas...</td>\n",
       "    </tr>\n",
       "    <tr>\n",
       "      <th>3</th>\n",
       "      <td>38.0</td>\n",
       "      <td>35-39</td>\n",
       "      <td>Feminino</td>\n",
       "      <td>São Paulo (SP)</td>\n",
       "      <td>SP</td>\n",
       "      <td>Sudeste</td>\n",
       "      <td>NaN</td>\n",
       "      <td>0</td>\n",
       "      <td>Pós-graduação</td>\n",
       "      <td>Outras</td>\n",
       "    </tr>\n",
       "    <tr>\n",
       "      <th>4</th>\n",
       "      <td>36.0</td>\n",
       "      <td>35-39</td>\n",
       "      <td>Masculino</td>\n",
       "      <td>Santa Catarina (SC)</td>\n",
       "      <td>SC</td>\n",
       "      <td>Sul</td>\n",
       "      <td>NaN</td>\n",
       "      <td>0</td>\n",
       "      <td>Pós-graduação</td>\n",
       "      <td>Outras Engenharias</td>\n",
       "    </tr>\n",
       "  </tbody>\n",
       "</table>\n",
       "</div>"
      ],
      "text/plain": [
       "   ('P1_a ', 'Idade') ('P1_a_a ', 'Faixa idade') ('P1_b ', 'Genero')  \\\n",
       "0                38.0                      35-39           Masculino   \n",
       "1                39.0                      35-39           Masculino   \n",
       "2                30.0                      30-34           Masculino   \n",
       "3                38.0                      35-39            Feminino   \n",
       "4                36.0                      35-39           Masculino   \n",
       "\n",
       "  ('P1_e ', 'Estado onde mora') ('P1_e_a ', 'uf onde mora')  \\\n",
       "0                    Ceará (CE)                          CE   \n",
       "1                    Bahia (BA)                          BA   \n",
       "2           Santa Catarina (SC)                          SC   \n",
       "3                São Paulo (SP)                          SP   \n",
       "4           Santa Catarina (SC)                          SC   \n",
       "\n",
       "  ('P1_e_b ', 'Regiao onde mora') ('P1_g_b ', 'Regiao de origem')  \\\n",
       "0                        Nordeste                             NaN   \n",
       "1                        Nordeste                         Sudeste   \n",
       "2                             Sul                             NaN   \n",
       "3                         Sudeste                             NaN   \n",
       "4                             Sul                             NaN   \n",
       "\n",
       "   ('P1_g_c ', 'Mudou de Estado?') ('P1_h ', 'Nivel de Ensino')  \\\n",
       "0                                0                Pós-graduação   \n",
       "1                                1                Pós-graduação   \n",
       "2                                0                Pós-graduação   \n",
       "3                                0                Pós-graduação   \n",
       "4                                0                Pós-graduação   \n",
       "\n",
       "                       ('P1_i ', 'Área de Formação')  \n",
       "0                                   Química / Física  \n",
       "1  Economia/ Administração / Contabilidade / Fina...  \n",
       "2  Computação / Engenharia de Software / Sistemas...  \n",
       "3                                             Outras  \n",
       "4                                 Outras Engenharias  "
      ]
     },
     "execution_count": 20,
     "metadata": {},
     "output_type": "execute_result"
    }
   ],
   "source": [
    "df_P1.head()"
   ]
  },
  {
   "cell_type": "code",
   "execution_count": 28,
   "id": "d067c362",
   "metadata": {},
   "outputs": [
    {
     "data": {
      "text/plain": [
       "355"
      ]
     },
     "execution_count": 28,
     "metadata": {},
     "output_type": "execute_result"
    }
   ],
   "source": [
    "df_P1.shape[1] + df_P2.shape[1] + df_P3.shape[1] + df_P4.shape[1] +df_P5.shape[1] + df_P6.shape[1] + df_P7.shape[1] + df_P8.shape[1] + df_P9.shape[1]"
   ]
  },
  {
   "cell_type": "code",
   "execution_count": null,
   "id": "153ab288",
   "metadata": {},
   "outputs": [],
   "source": []
  }
 ],
 "metadata": {
  "kernelspec": {
   "display_name": "Python 3 (ipykernel)",
   "language": "python",
   "name": "python3"
  },
  "language_info": {
   "codemirror_mode": {
    "name": "ipython",
    "version": 3
   },
   "file_extension": ".py",
   "mimetype": "text/x-python",
   "name": "python",
   "nbconvert_exporter": "python",
   "pygments_lexer": "ipython3",
   "version": "3.8.10"
  }
 },
 "nbformat": 4,
 "nbformat_minor": 5
}
